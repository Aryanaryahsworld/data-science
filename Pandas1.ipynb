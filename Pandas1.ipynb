{
  "nbformat": 4,
  "nbformat_minor": 0,
  "metadata": {
    "colab": {
      "provenance": []
    },
    "kernelspec": {
      "name": "python3",
      "display_name": "Python 3"
    },
    "language_info": {
      "name": "python"
    }
  },
  "cells": [
    {
      "cell_type": "code",
      "execution_count": 2,
      "metadata": {
        "colab": {
          "base_uri": "https://localhost:8080/"
        },
        "id": "6gGDkXwXUwJB",
        "outputId": "402fee03-e8dd-4db5-a13d-f9f37c137e92"
      },
      "outputs": [
        {
          "output_type": "stream",
          "name": "stdout",
          "text": [
            "Series from a list:\n",
            " 0    10\n",
            "1    20\n",
            "2    30\n",
            "3    40\n",
            "4    50\n",
            "dtype: int64\n",
            "Series with custom index:\n",
            " a    10\n",
            "b    20\n",
            "c    30\n",
            "d    40\n",
            "e    50\n",
            "dtype: int64\n",
            "Element at index 'c': 30\n"
          ]
        }
      ],
      "source": [
        "import pandas as pd\n",
        "import numpy as np\n",
        "\n",
        "# Creating a Pandas Series from a list\n",
        "data_list = [10, 20, 30, 40, 50]\n",
        "series_from_list = pd.Series(data_list)\n",
        "print(\"Series from a list:\\n\", series_from_list)\n",
        "\n",
        "# Creating a Series with custom index\n",
        "series_custom_index = pd.Series(data_list, index=['a', 'b', 'c', 'd', 'e'])\n",
        "print(\"Series with custom index:\\n\", series_custom_index)\n",
        "\n",
        "# Accessing elements in Series\n",
        "print(\"Element at index 'c':\", series_custom_index['c'])\n"
      ]
    },
    {
      "cell_type": "code",
      "source": [
        "# Performing arithmetic operations on Series\n",
        "series1 = pd.Series([1, 2, 3, 4, 5])\n",
        "series2 = pd.Series([5, 4, 3, 2, 1])\n",
        "\n",
        "series_sum = series1 + series2\n",
        "print(\"Sum of two series:\\n\", series_sum)\n",
        "\n",
        "# Applying mathematical functions\n",
        "np.log(series1)\n",
        "print(\"Logarithm of Series1:\\n\", np.log(series1))\n"
      ],
      "metadata": {
        "colab": {
          "base_uri": "https://localhost:8080/"
        },
        "id": "hMf5AzV4U5tY",
        "outputId": "c6cddaeb-fe8d-4cf7-e9d2-c9d262160e38"
      },
      "execution_count": 4,
      "outputs": [
        {
          "output_type": "stream",
          "name": "stdout",
          "text": [
            "Sum of two series:\n",
            " 0    6\n",
            "1    6\n",
            "2    6\n",
            "3    6\n",
            "4    6\n",
            "dtype: int64\n",
            "Logarithm of Series1:\n",
            " 0    0.000000\n",
            "1    0.693147\n",
            "2    1.098612\n",
            "3    1.386294\n",
            "4    1.609438\n",
            "dtype: float64\n"
          ]
        }
      ]
    },
    {
      "cell_type": "code",
      "source": [
        "# Handling missing data\n",
        "series_with_nan = pd.Series([1, np.nan, 3, np.nan, 5])\n",
        "\n",
        "# Filling missing values\n",
        "filled_series = series_with_nan.fillna(0)\n",
        "print(\"Series with NaN filled:\\n\", filled_series)\n",
        "\n",
        "# Dropping missing values\n",
        "dropped_nan = series_with_nan.dropna()\n",
        "print(\"Series with NaN dropped:\\n\", dropped_nan)\n"
      ],
      "metadata": {
        "colab": {
          "base_uri": "https://localhost:8080/"
        },
        "id": "UJnWzj-SU-y5",
        "outputId": "fe396b18-82ec-408e-a436-12d7f5396cc3"
      },
      "execution_count": 7,
      "outputs": [
        {
          "output_type": "stream",
          "name": "stdout",
          "text": [
            "Series with NaN filled:\n",
            " 0    1.0\n",
            "1    0.0\n",
            "2    3.0\n",
            "3    0.0\n",
            "4    5.0\n",
            "dtype: float64\n",
            "Series with NaN dropped:\n",
            " 0    1.0\n",
            "2    3.0\n",
            "4    5.0\n",
            "dtype: float64\n"
          ]
        }
      ]
    },
    {
      "cell_type": "code",
      "source": [
        "# Boolean indexing\n",
        "series_data = pd.Series(range(10))\n",
        "filtered_series = series_data[series_data > 5]\n",
        "print(\"Filtered series (values > 5):\\n\", filtered_series)\n"
      ],
      "metadata": {
        "colab": {
          "base_uri": "https://localhost:8080/"
        },
        "id": "Q_TmPrsxVCjW",
        "outputId": "ebcccf21-bf1f-406a-9ee4-ed6b2643c293"
      },
      "execution_count": 9,
      "outputs": [
        {
          "output_type": "stream",
          "name": "stdout",
          "text": [
            "Filtered series (values > 5):\n",
            " 6    6\n",
            "7    7\n",
            "8    8\n",
            "9    9\n",
            "dtype: int64\n"
          ]
        }
      ]
    },
    {
      "cell_type": "code",
      "source": [
        "# Time series data\n",
        "dates = pd.date_range('20230101', periods=6)\n",
        "time_series = pd.Series([1, 2, 3, 4, 5, 6], index=dates)\n",
        "print(\"Time Series:\\n\", time_series)\n"
      ],
      "metadata": {
        "colab": {
          "base_uri": "https://localhost:8080/"
        },
        "id": "CS_R8BibVMlX",
        "outputId": "ca754846-afcf-45ec-a525-accef26ed526"
      },
      "execution_count": 11,
      "outputs": [
        {
          "output_type": "stream",
          "name": "stdout",
          "text": [
            "Time Series:\n",
            " 2023-01-01    1\n",
            "2023-01-02    2\n",
            "2023-01-03    3\n",
            "2023-01-04    4\n",
            "2023-01-05    5\n",
            "2023-01-06    6\n",
            "Freq: D, dtype: int64\n"
          ]
        }
      ]
    },
    {
      "cell_type": "code",
      "source": [
        "# GroupBy and aggregation\n",
        "series_for_groupby = pd.Series([1, 2, 3, 1, 2, 3, 4, 5], index=['a', 'b', 'c', 'a', 'b', 'c', 'd', 'e'])\n",
        "grouped_series = series_for_groupby.groupby(series_for_groupby).mean()\n",
        "print(\"Grouped and Aggregated Series:\\n\", grouped_series)\n"
      ],
      "metadata": {
        "colab": {
          "base_uri": "https://localhost:8080/"
        },
        "id": "ypiY8v5oVOIR",
        "outputId": "779c3712-37bf-455c-de4c-c9b8f6b7ee9e"
      },
      "execution_count": 13,
      "outputs": [
        {
          "output_type": "stream",
          "name": "stdout",
          "text": [
            "Grouped and Aggregated Series:\n",
            " 1    1.0\n",
            "2    2.0\n",
            "3    3.0\n",
            "4    4.0\n",
            "5    5.0\n",
            "dtype: float64\n"
          ]
        }
      ]
    },
    {
      "cell_type": "code",
      "source": [
        "# Data transformation using apply()\n",
        "series_data = pd.Series([1, 2, 3, 4, 5])\n",
        "\n",
        "def square_plus_one(x):\n",
        "    return x**2 + 1\n",
        "\n",
        "transformed_series = series_data.apply(square_plus_one)\n",
        "print(\"Transformed Series (square plus one):\\n\", transformed_series)\n"
      ],
      "metadata": {
        "colab": {
          "base_uri": "https://localhost:8080/"
        },
        "id": "kPncFoIZVW0M",
        "outputId": "c2c15101-e0ab-47af-b7a8-9bb3b3e90350"
      },
      "execution_count": 15,
      "outputs": [
        {
          "output_type": "stream",
          "name": "stdout",
          "text": [
            "Transformed Series (square plus one):\n",
            " 0     2\n",
            "1     5\n",
            "2    10\n",
            "3    17\n",
            "4    26\n",
            "dtype: int64\n"
          ]
        }
      ]
    },
    {
      "cell_type": "code",
      "source": [
        "# String operations in Series\n",
        "text_series = pd.Series(['Pandas', 'is', 'powerful', 'for', 'data', 'manipulation'])\n",
        "\n",
        "# Capitalize each string\n",
        "capitalized_series = text_series.str.capitalize()\n",
        "print(\"Capitalized Series:\\n\", capitalized_series)\n",
        "\n",
        "# Concatenate the words\n",
        "concatenated_string = text_series.str.cat(sep=' ')\n",
        "print(\"Concatenated String:\", concatenated_string)\n"
      ],
      "metadata": {
        "colab": {
          "base_uri": "https://localhost:8080/"
        },
        "id": "xJGzu2utVZ35",
        "outputId": "182084d8-1132-4ad1-82b3-7316e9bfb18f"
      },
      "execution_count": 17,
      "outputs": [
        {
          "output_type": "stream",
          "name": "stdout",
          "text": [
            "Capitalized Series:\n",
            " 0          Pandas\n",
            "1              Is\n",
            "2        Powerful\n",
            "3             For\n",
            "4            Data\n",
            "5    Manipulation\n",
            "dtype: object\n",
            "Concatenated String: Pandas is powerful for data manipulation\n"
          ]
        }
      ]
    },
    {
      "cell_type": "code",
      "source": [
        "# Resampling time series data\n",
        "time_index = pd.date_range('20230101', periods=60, freq='D')\n",
        "time_series = pd.Series(np.random.randn(len(time_index)), index=time_index)\n",
        "\n",
        "# Resample to monthly frequency and compute the mean\n",
        "monthly_resample = time_series.resample('M').mean()\n",
        "print(\"Monthly Resampled Time Series:\\n\", monthly_resample)\n"
      ],
      "metadata": {
        "colab": {
          "base_uri": "https://localhost:8080/"
        },
        "id": "6xqxBv8ZVddE",
        "outputId": "9c7b02bd-8c6e-420b-fd6f-e06b7b927c7e"
      },
      "execution_count": 19,
      "outputs": [
        {
          "output_type": "stream",
          "name": "stdout",
          "text": [
            "Monthly Resampled Time Series:\n",
            " 2023-01-31    0.132569\n",
            "2023-02-28   -0.137707\n",
            "2023-03-31    1.384850\n",
            "Freq: M, dtype: float64\n"
          ]
        }
      ]
    },
    {
      "cell_type": "code",
      "source": [
        "# MultiIndex series\n",
        "arrays = [np.array(['bar', 'bar', 'baz', 'baz']),\n",
        "          np.array(['one', 'two', 'one', 'two'])]\n",
        "multi_index_series = pd.Series(np.random.randn(4), index=arrays)\n",
        "\n",
        "print(\"MultiIndex Series:\\n\", multi_index_series)\n"
      ],
      "metadata": {
        "colab": {
          "base_uri": "https://localhost:8080/"
        },
        "id": "rf6x1ZkhVhn8",
        "outputId": "0a4e1835-c489-4db9-e158-14847f192844"
      },
      "execution_count": 21,
      "outputs": [
        {
          "output_type": "stream",
          "name": "stdout",
          "text": [
            "MultiIndex Series:\n",
            " bar  one    0.306738\n",
            "     two    0.157856\n",
            "baz  one   -1.298299\n",
            "     two    0.092007\n",
            "dtype: float64\n"
          ]
        }
      ]
    },
    {
      "cell_type": "code",
      "source": [
        "# Filtering with isin()\n",
        "series_elements = pd.Series(['apple', 'banana', 'cherry', 'date'])\n",
        "filtered_series = series_elements[series_elements.isin(['banana', 'date'])]\n",
        "\n",
        "print(\"Filtered Series with isin:\\n\", filtered_series)\n"
      ],
      "metadata": {
        "colab": {
          "base_uri": "https://localhost:8080/"
        },
        "id": "mkAEspStVi-G",
        "outputId": "8aacebc1-c062-46a9-c1c8-fbfd2f02996f"
      },
      "execution_count": 23,
      "outputs": [
        {
          "output_type": "stream",
          "name": "stdout",
          "text": [
            "Filtered Series with isin:\n",
            " 1    banana\n",
            "3      date\n",
            "dtype: object\n"
          ]
        }
      ]
    },
    {
      "cell_type": "code",
      "source": [
        "# Sorting and ranking\n",
        "random_series = pd.Series(np.random.randn(5))\n",
        "sorted_series = random_series.sort_values()\n",
        "print(\"Sorted Series:\\n\", sorted_series)\n",
        "\n",
        "# Ranking series elements\n",
        "ranked_series = random_series.rank()\n",
        "print(\"Ranked Series:\\n\", ranked_series)\n"
      ],
      "metadata": {
        "colab": {
          "base_uri": "https://localhost:8080/"
        },
        "id": "ndItUoQ8VmwC",
        "outputId": "24692ff1-2bf4-4609-c767-4ece92691882"
      },
      "execution_count": 24,
      "outputs": [
        {
          "output_type": "stream",
          "name": "stdout",
          "text": [
            "Sorted Series:\n",
            " 2   -0.104599\n",
            "1    0.067142\n",
            "0    0.490464\n",
            "4    0.829589\n",
            "3    1.624603\n",
            "dtype: float64\n",
            "Ranked Series:\n",
            " 0    3.0\n",
            "1    2.0\n",
            "2    1.0\n",
            "3    5.0\n",
            "4    4.0\n",
            "dtype: float64\n"
          ]
        }
      ]
    }
  ]
}